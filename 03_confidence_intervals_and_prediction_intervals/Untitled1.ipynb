{
 "cells": [
  {
   "cell_type": "code",
   "execution_count": null,
   "id": "f12bb37a-b8e8-4918-87e9-8f46a0590025",
   "metadata": {},
   "outputs": [],
   "source": [
    "import numpy as np\n",
    "import statsmodels.api as sm\n",
    "import matplotlib.pyplot as plt\n",
    "\n",
    "# Set the random seed\n",
    "np.random.seed(41)\n",
    "\n",
    "# Set the number of observations\n",
    "num_observations = 150\n",
    "\n",
    "# Define the parameters for the distributions\n",
    "y_mean, y_std = 10, 9\n",
    "\n",
    "# Generate random numbers from the normal distributions\n",
    "np.random.seed(77)\n",
    "y_values = np.random.normal(y_mean, y_std, num_observations)\n",
    "\n"
   ]
  }
 ],
 "metadata": {
  "kernelspec": {
   "display_name": "Python 3 (ipykernel)",
   "language": "python",
   "name": "python3"
  },
  "language_info": {
   "codemirror_mode": {
    "name": "ipython",
    "version": 3
   },
   "file_extension": ".py",
   "mimetype": "text/x-python",
   "name": "python",
   "nbconvert_exporter": "python",
   "pygments_lexer": "ipython3",
   "version": "3.12.2"
  }
 },
 "nbformat": 4,
 "nbformat_minor": 5
}
