{
 "cells": [
  {
   "cell_type": "markdown",
   "metadata": {},
   "source": [
    "# Figure 6 Analysis (Section 11.5)\n",
    "\n",
    "This notebook reproduces the analysis of Figure 6 from Chapter 11 (Model Risk).  We compute default probabilities for:\n",
    "- CDO tranche‐2 (one level of CDO)  \n",
    "- CDO² tranche‐2 (two levels: CDO of CDOs)  \n",
    "under three scenarios:\n",
    "1. Statistically independent mortgage defaults\n",
    "2. Perfectly correlated defaults\n",
    "3. A mixture model combining the two regimes with specified probabilities\n",
    "\n",
    "We then compute the resulting probabilities and relevant ratios/log‐differences as in the spreadsheet."
   ]
  },
  {
   "cell_type": "markdown",
   "metadata": {},
   "source": [
    "## 1️⃣ Import libraries"
   ]
  },
  {
   "cell_type": "code",
   "execution_count": 1,
   "metadata": {},
   "outputs": [],
   "source": [
    "import numpy as np\n",
    "import pandas as pd\n",
    "from scipy.stats import binom"
   ]
  },
  {
   "cell_type": "markdown",
   "metadata": {},
   "source": [
    "## 2️⃣ Define parameters and compute probabilities under each scenario\n",
    "\n",
    "We follow the setup from the Excel spreadsheet:\n",
    "1. Individual mortgage default probability: $p = 0.05$\n",
    "2. Pool size (number of mortgages in each CDO): $N = 2$\n",
    "3. Mixture weights:\n",
    "   - Independent regime: $w_{\\mathrm{ind}} = 0.99$\n",
    "   - Perfectly correlated regime: $w_{\\mathrm{pc}} = 0.01$\n",
    "\n",
    "*Under independent defaults*, each mortgage fails independently with probability $p$.\n",
    "- CDO tranche‐2 default occurs if both mortgages in that CDO default:  $$P_{\\mathrm{CDO},\\mathrm{ind}} = 1 - \\text{BinomialCDF}(k=1; N=2, p).$$- CDO² tranche‐2 default occurs if both CDOs default (treating each CDO’s failure probability as independent):  $$P_{\\mathrm{CDO}^2,\\mathrm{ind}} = 1 - \\text{BinomialCDF}(k=1; N=2, p_{\\mathrm{CDO,ind}}).$$\n",
    "*Under perfect correlation*, all mortgages fail together with probability $p$.\n",
    "- Hence $P_{\\mathrm{CDO},\\mathrm{pc}} = p$ and $P_{\\mathrm{CDO}^2,\\mathrm{pc}} = p$.\n",
    "\n",
    "*Under the mixture model*:\n",
    "- We randomly select one of the two regimes: independent (with weight $0.99$) or perfectly correlated (with weight $0.01$).\n",
    "- Then $P_{\\mathrm{CDO,mix}} = w_{\\mathrm{ind}}\\,P_{\\mathrm{CDO,ind}} + w_{\\mathrm{pc}}\\,P_{\\mathrm{CDO,pc}}$,  \n",
    "  and similarly for $P_{\\mathrm{CDO}^2,\\mathrm{mix}}$."
   ]
  },
  {
   "cell_type": "code",
   "execution_count": 2,
   "metadata": {},
   "outputs": [],
   "source": [
    "# Parameters\n",
    "p = 0.05         # individual mortgage default probability\n",
    "N = 2            # number of mortgages per CDO\n",
    "w_ind = 0.99     # mixture weight for independent regime\n",
    "w_pc = 0.01      # mixture weight for perfectly correlated regime\n",
    "\n",
    "# --- Independent regime ---\n",
    "# Probability that a CDO tranche-2 defaults = P(>=2 failures out of N)\n",
    "cdo1_ind = 1 - binom.cdf(1, N, p)\n",
    "# For CDO^2: treat each CDO as an \"aggregate loan\" with failure probability cdo1_ind, and again N=2\n",
    "cdo2_ind = 1 - binom.cdf(1, 2, cdo1_ind)\n",
    "\n",
    "# --- Perfectly correlated regime ---\n",
    "# All mortgages default together with probability p\n",
    "cdo1_pc = p\n",
    "cdo2_pc = p\n",
    "\n",
    "# --- Mixture model ---\n",
    "cdo1_mix = w_ind * cdo1_ind + w_pc * cdo1_pc\n",
    "cdo2_mix = w_ind * cdo2_ind + w_pc * cdo2_pc"
   ]
  },
  {
   "cell_type": "markdown",
   "metadata": {},
   "source": [
    "## 3️⃣ Assemble results into a table"
   ]
  },
  {
   "cell_type": "code",
   "execution_count": 4,
   "metadata": {},
   "outputs": [
    {
     "data": {
      "text/html": [
       "<div>\n",
       "<style scoped>\n",
       "    .dataframe tbody tr th:only-of-type {\n",
       "        vertical-align: middle;\n",
       "    }\n",
       "\n",
       "    .dataframe tbody tr th {\n",
       "        vertical-align: top;\n",
       "    }\n",
       "\n",
       "    .dataframe thead th {\n",
       "        text-align: right;\n",
       "    }\n",
       "</style>\n",
       "<table border=\"1\" class=\"dataframe\">\n",
       "  <thead>\n",
       "    <tr style=\"text-align: right;\">\n",
       "      <th></th>\n",
       "      <th>Correlation Structure</th>\n",
       "      <th>P(Structure)</th>\n",
       "      <th>CDO Tranche-2</th>\n",
       "      <th>CDO^2 Tranche-2</th>\n",
       "    </tr>\n",
       "  </thead>\n",
       "  <tbody>\n",
       "    <tr>\n",
       "      <th>0</th>\n",
       "      <td>Independent</td>\n",
       "      <td>0.99</td>\n",
       "      <td>0.002500</td>\n",
       "      <td>0.000006</td>\n",
       "    </tr>\n",
       "    <tr>\n",
       "      <th>1</th>\n",
       "      <td>Perfectly Correlated</td>\n",
       "      <td>0.01</td>\n",
       "      <td>0.050000</td>\n",
       "      <td>0.050000</td>\n",
       "    </tr>\n",
       "    <tr>\n",
       "      <th>2</th>\n",
       "      <td>Mixture</td>\n",
       "      <td>NaN</td>\n",
       "      <td>0.002975</td>\n",
       "      <td>0.000506</td>\n",
       "    </tr>\n",
       "  </tbody>\n",
       "</table>\n",
       "</div>"
      ],
      "text/plain": [
       "  Correlation Structure  P(Structure)  CDO Tranche-2  CDO^2 Tranche-2\n",
       "0           Independent          0.99       0.002500         0.000006\n",
       "1  Perfectly Correlated          0.01       0.050000         0.050000\n",
       "2               Mixture           NaN       0.002975         0.000506"
      ]
     },
     "execution_count": 4,
     "metadata": {},
     "output_type": "execute_result"
    }
   ],
   "source": [
    "# Create a summary DataFrame matching the spreadsheet layout\n",
    "df_fig6_results = pd.DataFrame({\n",
    "    'Correlation Structure': ['Independent', 'Perfectly Correlated', 'Mixture'],\n",
    "    'P(Structure)': [w_ind, w_pc, np.nan],\n",
    "    'CDO Tranche-2': [cdo1_ind, cdo1_pc, cdo1_mix],\n",
    "    'CDO^2 Tranche-2': [cdo2_ind, cdo2_pc, cdo2_mix]\n",
    "})\n",
    "\n",
    "df_fig6_results"
   ]
  },
  {
   "cell_type": "markdown",
   "metadata": {},
   "source": [
    "## 4️⃣ Compute ratios and log‐differences\n",
    "\n",
    "Finally, we compute:\n",
    "1. The ratio $\\displaystyle R_1 = \\frac{P_{\\mathrm{CDO}^2,\\mathrm{mix}}}{P_{\\mathrm{CDO,ind}}}$, showing how the mixed CDO² default probability compares to the purely independent CDO default probability.\n",
    "2. The ratio $\\displaystyle R_2 = \\frac{P_{\\mathrm{CDO}^2,\\mathrm{mix}}}{P_{\\mathrm{CDO,mix}}}$, as in the spreadsheet.\n",
    "3. The log‐difference $\\ln\\bigl(P_{\\mathrm{CDO}^2,\\mathrm{mix}}\\bigr) - \\ln\\bigl(P_{\\mathrm{CDO,mix}}\\bigr)$.\n"
   ]
  },
  {
   "cell_type": "code",
   "execution_count": 7,
   "metadata": {},
   "outputs": [
    {
     "name": "stdout",
     "output_type": "stream",
     "text": [
      "R1 = cdo2_mix / cdo1_ind = 80.990000\n",
      "R2 = cdo2_mix / cdo1_mix = 0.170147\n",
      "ln(cdo2_mix) - ln(cdo1_mix) = -1.771092\n"
     ]
    }
   ],
   "source": [
    "# Ratio R1 = cdo2_mix / cdo2_ind\n",
    "R1 = cdo2_mix / cdo2_ind\n",
    "# Ratio R2 = cdo2_mix / cdo1_mix\n",
    "R2 = cdo2_mix / cdo1_mix\n",
    "# Log-difference\n",
    "log_diff = np.log(cdo2_mix) - np.log(cdo1_mix)\n",
    "\n",
    "print(f\"R1 = cdo2_mix / cdo1_ind = {R1:.6f}\")\n",
    "print(f\"R2 = cdo2_mix / cdo1_mix = {R2:.6f}\")\n",
    "print(f\"ln(cdo2_mix) - ln(cdo1_mix) = {log_diff:.6f}\")"
   ]
  },
  {
   "cell_type": "code",
   "execution_count": null,
   "metadata": {},
   "outputs": [],
   "source": []
  }
 ],
 "metadata": {
  "kernelspec": {
   "display_name": "Python 3 (ipykernel)",
   "language": "python",
   "name": "python3"
  },
  "language_info": {
   "codemirror_mode": {
    "name": "ipython",
    "version": 3
   },
   "file_extension": ".py",
   "mimetype": "text/x-python",
   "name": "python",
   "nbconvert_exporter": "python",
   "pygments_lexer": "ipython3",
   "version": "3.12.2"
  }
 },
 "nbformat": 4,
 "nbformat_minor": 4
}
